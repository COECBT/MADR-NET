{
  "cells": [
    {
      "cell_type": "code",
      "execution_count": null,
      "metadata": {
        "id": "ugk-GjgwebEv"
      },
      "outputs": [],
      "source": [
        "import os\n",
        "import cv2\n",
        "import tensorflow\n",
        "import numpy as np\n",
        "from tqdm import tqdm\n",
        "import matplotlib.pyplot as plt\n",
        "from keras.layers import Input, Conv2D, MaxPooling2D, Conv2DTranspose, concatenate, BatchNormalization, Activation, add\n",
        "from keras.models import Model, model_from_json\n",
        "from tensorflow.keras.optimizers import Adam\n",
        "from keras.layers.advanced_activations import ELU, LeakyReLU\n",
        "from keras.utils.vis_utils import plot_model\n",
        "from keras import backend as K\n",
        "from sklearn.model_selection import train_test_split\n",
        "from sklearn.metrics import classification_report"
      ]
    },
    {
      "cell_type": "code",
      "execution_count": null,
      "metadata": {
        "id": "a2wa_8mCjwvB"
      },
      "outputs": [],
      "source": [
        "img_files = next(os.walk('/content/drive/MyDrive/Skin/skin/ISIC-2017_Training_Data/ISIC-2017_Training_Data'))[2]\n",
        "msk_files = next(os.walk('/content/drive/MyDrive/Skin/skin/ISIC-2017_Training_Part1_GroundTruth/ISIC-2017_Training_Part1_GroundTruth'))[2]\n",
        "\n",
        "img_files.sort()\n",
        "msk_files.sort()\n",
        "\n",
        "print(len(img_files))\n",
        "print(len(msk_files))\n",
        "\n",
        "\n",
        "\n",
        "\n",
        "X = []\n",
        "Y = []\n",
        "\n",
        "for img_fl in tqdm(img_files):\n",
        "    if(img_fl.split('.')[-1]=='jpg'):\n",
        "\n",
        "\n",
        "        img = cv2.imread('/content/drive/MyDrive/Skin/skin/ISIC-2017_Training_Data/ISIC-2017_Training_Data/{}'.format(img_fl), cv2.IMREAD_COLOR)\n",
        "        resized_img = cv2.resize(img,(128,128), interpolation = cv2.INTER_CUBIC)\n",
        "\n",
        "        X.append(resized_img)\n",
        "\n",
        "        msk = cv2.imread('/content/drive/MyDrive/Skin/skin/ISIC-2017_Training_Part1_GroundTruth/ISIC-2017_Training_Part1_GroundTruth/{}'.format(img_fl.split('.')[0]+'_segmentation.png'), cv2.IMREAD_GRAYSCALE)\n",
        "        resized_msk = cv2.resize(msk,(128,128), interpolation = cv2.INTER_CUBIC)\n",
        "\n",
        "        Y.append(resized_msk)\n"
      ]
    },
    {
      "cell_type": "code",
      "source": [
        "print(len(X))\n",
        "print(len(Y))\n",
        "\n",
        "X = np.array(X)\n",
        "Y = np.array(Y)\n",
        "\n",
        "X_train, X_test, Y_train, Y_test = train_test_split(X, Y, test_size=0.2, random_state=42)\n",
        "\n",
        "Y_train = Y_train.reshape((Y_train.shape[0],Y_train.shape[1],Y_train.shape[2],1))\n",
        "Y_test = Y_test.reshape((Y_test.shape[0],Y_test.shape[1],Y_test.shape[2],1))\n",
        "\n",
        "X_train = X_train / 255\n",
        "X_test = X_test / 255\n",
        "Y_train = Y_train / 255\n",
        "Y_test = Y_test / 255\n",
        "\n",
        "Y_train = np.round(Y_train,0)\n",
        "Y_test = np.round(Y_test,0)\n",
        "\n",
        "print(X_train.shape)\n",
        "print(Y_train.shape)\n",
        "print(X_test.shape)\n",
        "print(Y_test.shape)"
      ],
      "metadata": {
        "id": "k_NqfgIjr3RF"
      },
      "execution_count": null,
      "outputs": []
    },
    {
      "cell_type": "code",
      "source": [
        "X_train1, X_test_do, Y_train1, Y_test_d0 = train_test_split(X_train, Y_train, test_size=0.2, random_state=42)"
      ],
      "metadata": {
        "id": "5kv7uNZp6T1b"
      },
      "execution_count": null,
      "outputs": []
    },
    {
      "cell_type": "code",
      "execution_count": null,
      "metadata": {
        "id": "Ijrtd_NOhSv6"
      },
      "outputs": [],
      "source": [
        "print(X_train1.shape)\n",
        "print(Y_train1.shape)\n",
        "print(X_test_do.shape)\n",
        "print(Y_test_d0.shape)"
      ]
    },
    {
      "cell_type": "code",
      "execution_count": null,
      "metadata": {
        "id": "74-98cdshZ2w"
      },
      "outputs": [],
      "source": [
        "import tensorflow as tf\n",
        "from sklearn.utils.extmath import cartesian\n",
        "import math\n",
        "def dice_coef(y_true, y_pred):\n",
        "    smooth = 0.0\n",
        "    y_true_f = K.flatten(y_true)\n",
        "    y_pred_f = K.flatten(y_pred)\n",
        "    intersection = K.sum(y_true_f * y_pred_f)\n",
        "    return (2. * intersection + smooth) / (K.sum(y_true_f) + K.sum(y_pred_f) + smooth)\n",
        "\n",
        "def jacard(y_true, y_pred):\n",
        "\n",
        "    y_true_f = K.flatten(y_true)\n",
        "    y_pred_f = K.flatten(y_pred)\n",
        "    intersection = K.sum ( y_true_f * y_pred_f)\n",
        "    union = K.sum ( y_true_f + y_pred_f - y_true_f * y_pred_f)\n",
        "\n",
        "    return intersection/union\n",
        "\n",
        "def confusion(y_true, y_pred):\n",
        "    smooth=1\n",
        "    y_pred_pos = K.clip(y_pred, 0, 1)\n",
        "    y_pred_neg = 1 - y_pred_pos\n",
        "    y_pos = K.clip(y_true, 0, 1)\n",
        "    y_neg = 1 - y_pos\n",
        "    tp = K.sum(y_pos * y_pred_pos)\n",
        "    fp = K.sum(y_neg * y_pred_pos)\n",
        "    fn = K.sum(y_pos * y_pred_neg)\n",
        "    prec = (tp + smooth)/(tp+fp+smooth)\n",
        "    recall = (tp+smooth)/(tp+fn+smooth)\n",
        "    return prec, recall\n",
        "\n",
        "def tp(y_true, y_pred):\n",
        "    smooth = 1\n",
        "    y_pred_pos = K.round(K.clip(y_pred, 0, 1))\n",
        "    y_pos = K.round(K.clip(y_true, 0, 1))\n",
        "    tp = (K.sum(y_pos * y_pred_pos) + smooth)/ (K.sum(y_pos) + smooth)\n",
        "    return tp\n",
        "\n",
        "def tn(y_true, y_pred):\n",
        "    smooth = 1\n",
        "    y_pred_pos = K.round(K.clip(y_pred, 0, 1))\n",
        "    y_pred_neg = 1 - y_pred_pos\n",
        "    y_pos = K.round(K.clip(y_true, 0, 1))\n",
        "    y_neg = 1 - y_pos\n",
        "    tn = (K.sum(y_neg * y_pred_neg) + smooth) / (K.sum(y_neg) + smooth )\n",
        "    return tn\n",
        "def cdist(A, B):\n",
        "    \"\"\"\n",
        "    Computes the pairwise Euclidean distance matrix between two tensorflow matrices A & B, similiar to scikit-learn cdist.\n",
        "    For example:\n",
        "    A = [[1, 2],\n",
        "         [3, 4]]\n",
        "    B = [[1, 2],\n",
        "         [3, 4]]\n",
        "    should return:\n",
        "        [[0, 2.82],\n",
        "         [2.82, 0]]\n",
        "    :param A: m_a x n matrix\n",
        "    :param B: m_b x n matrix\n",
        "    :return: euclidean distance matrix (m_a x m_b)\n",
        "    \"\"\"\n",
        "    # squared norms of each row in A and B\n",
        "    na = tf.reduce_sum(tf.square(A), 1)\n",
        "    nb = tf.reduce_sum(tf.square(B), 1)\n",
        "\n",
        "    # na as a row and nb as a co\"lumn vectors\n",
        "    na = tf.reshape(na, [-1, 1])\n",
        "    nb = tf.reshape(nb, [1, -1])\n",
        "\n",
        "    # return pairwise euclidead difference matrix\n",
        "    D = tf.sqrt(tf.maximum(na - 2 * tf.matmul(A, B, False, True) + nb, 0.0))\n",
        "    return D\n",
        "\n",
        "\n",
        "def weighted_hausdorff_distance(w, h, alpha):\n",
        "    all_img_locations = tf.convert_to_tensor(cartesian([np.arange(w), np.arange(h)]), dtype=tf.float32)\n",
        "    max_dist = math.sqrt(w ** 2 + h ** 2)\n",
        "\n",
        "    def hausdorff_loss(y_true, y_pred):\n",
        "        def loss(y_true, y_pred):\n",
        "            eps = 1e-6\n",
        "            y_true = K.reshape(y_true, [w, h])\n",
        "            gt_points = K.cast(tf.where(y_true > 0.5), dtype=tf.float32)\n",
        "            num_gt_points = tf.shape(gt_points)[0]\n",
        "            y_pred = K.flatten(y_pred)\n",
        "            p = y_pred\n",
        "            p_replicated = tf.squeeze(K.repeat(tf.expand_dims(p, axis=-1), num_gt_points))\n",
        "            d_matrix = cdist(all_img_locations, gt_points)\n",
        "            num_est_pts = tf.reduce_sum(p)\n",
        "            term_1 = (1 / (num_est_pts + eps)) * K.sum(p * K.min(d_matrix, 1))\n",
        "\n",
        "            d_div_p = K.min((d_matrix + eps) / (p_replicated ** alpha + (eps / max_dist)), 0)\n",
        "            d_div_p = K.clip(d_div_p, 0, max_dist)\n",
        "            term_2 = K.mean(d_div_p, axis=0)\n",
        "\n",
        "            return term_1 + term_2\n",
        "\n",
        "        batched_losses = tf.map_fn(lambda x:\n",
        "                                   loss(x[0], x[1]),\n",
        "                                   (y_true, y_pred),\n",
        "                                   dtype=tf.float32)\n",
        "        return K.mean(tf.stack(batched_losses))\n",
        "\n",
        "    return hausdorff_loss"
      ]
    },
    {
      "cell_type": "code",
      "source": [
        "!pip install segmentation_models"
      ],
      "metadata": {
        "id": "Isu2yjPtSFP7"
      },
      "execution_count": null,
      "outputs": []
    },
    {
      "cell_type": "code",
      "source": [
        "!pip install keras_unet_collection"
      ],
      "metadata": {
        "id": "0Gl4jm0cuXse"
      },
      "execution_count": null,
      "outputs": []
    },
    {
      "cell_type": "code",
      "source": [
        "def recall_m(y_true, y_pred):\n",
        "    true_positives = K.sum(K.round(K.clip(y_true * y_pred, 0, 1)))\n",
        "    possible_positives = K.sum(K.round(K.clip(y_true, 0, 1)))\n",
        "    recall = true_positives / (possible_positives + K.epsilon())\n",
        "    return recall\n",
        "\n",
        "def precision_m(y_true, y_pred):\n",
        "    true_positives = K.sum(K.round(K.clip(y_true * y_pred, 0, 1)))\n",
        "    predicted_positives = K.sum(K.round(K.clip(y_pred, 0, 1)))\n",
        "    precision = true_positives / (predicted_positives + K.epsilon())\n",
        "    return precision"
      ],
      "metadata": {
        "id": "tTdEElmOGD0c"
      },
      "execution_count": null,
      "outputs": []
    },
    {
      "cell_type": "code",
      "source": [
        "from keras_unet_collection import losses\n",
        "\n",
        "def hybrid_loss(y_true, y_pred):\n",
        "\n",
        "    loss_focal = losses.focal_tversky(y_true, y_pred, alpha=0.5, gamma=4/3)\n",
        "    loss_iou = losses.iou_seg(y_true, y_pred)\n",
        "\n",
        "    # (x)\n",
        "    loss_dice = losses.dice(y_true, y_pred)\n",
        "\n",
        "    return loss_focal+loss_iou +loss_dice"
      ],
      "metadata": {
        "id": "MV16LQ6gSJj5"
      },
      "execution_count": null,
      "outputs": []
    },
    {
      "cell_type": "code",
      "source": [
        "from tensorflow.keras import models, layers, regularizers\n",
        "def conv_block(x, filter_size, size, dropout, batch_norm=False):\n",
        "\n",
        "    conv = layers.Conv2D(size, (filter_size, filter_size), padding=\"same\")(x)\n",
        "    if batch_norm is True:\n",
        "        conv = layers.BatchNormalization(axis=3)(conv)\n",
        "    conv = layers.Activation(\"relu\")(conv)\n",
        "\n",
        "    conv = layers.Conv2D(size, (filter_size, filter_size), padding=\"same\")(conv)\n",
        "    if batch_norm is True:\n",
        "        conv = layers.BatchNormalization(axis=3)(conv)\n",
        "    conv = layers.Activation(\"relu\")(conv)\n",
        "\n",
        "    if dropout > 0:\n",
        "        conv = layers.Dropout(dropout)(conv)\n",
        "\n",
        "    return conv\n",
        "\n",
        "\n",
        "def repeat_elem(tensor, rep):\n",
        "    # lambda function to repeat Repeats the elements of a tensor along an axis\n",
        "    #by a factor of rep.\n",
        "    # If tensor has shape (None, 256,256,3), lambda will return a tensor of shape\n",
        "    #(None, 256,256,6), if specified axis=3 and rep=2.\n",
        "\n",
        "     return layers.Lambda(lambda x, repnum: K.repeat_elements(x, repnum, axis=3),\n",
        "                          arguments={'repnum': rep})(tensor)\n",
        "\n",
        "\n",
        "def res_conv_block(x, filter_size, size, dropout, batch_norm=False):\n",
        "    '''\n",
        "    Residual convolutional layer.\n",
        "    Two variants....\n",
        "    Either put activation function before the addition with shortcut\n",
        "    or after the addition (which would be as proposed in the original resNet).\n",
        "\n",
        "    1. conv - BN - Activation - conv - BN - Activation\n",
        "                                          - shortcut  - BN - shortcut+BN\n",
        "\n",
        "    2. conv - BN - Activation - conv - BN\n",
        "                                     - shortcut  - BN - shortcut+BN - Activation\n",
        "\n",
        "    Check fig 4 in https://arxiv.org/ftp/arxiv/papers/1802/1802.06955.pdf\n",
        "    '''\n",
        "\n",
        "    conv = layers.Conv2D(size, (filter_size, filter_size), padding='same')(x)\n",
        "    if batch_norm is True:\n",
        "        conv = layers.BatchNormalization(axis=3)(conv)\n",
        "    conv = layers.Activation('relu')(conv)\n",
        "\n",
        "    conv = layers.Conv2D(size, (filter_size, filter_size), padding='same')(conv)\n",
        "    if batch_norm is True:\n",
        "        conv = layers.BatchNormalization(axis=3)(conv)\n",
        "    #conv = layers.Activation('relu')(conv)    #Activation before addition with shortcut\n",
        "    if dropout > 0:\n",
        "        conv = layers.Dropout(dropout)(conv)\n",
        "\n",
        "    shortcut = layers.Conv2D(size, kernel_size=(1, 1), padding='same')(x)\n",
        "    if batch_norm is True:\n",
        "        shortcut = layers.BatchNormalization(axis=3)(shortcut)\n",
        "\n",
        "    res_path = layers.add([shortcut, conv])\n",
        "    res_path = layers.Activation('relu')(res_path)    #Activation after addition with shortcut (Original residual block)\n",
        "    return res_path\n",
        "\n",
        "def gating_signal(input, out_size, batch_norm=False):\n",
        "    \"\"\"\n",
        "    resize the down layer feature map into the same dimension as the up layer feature map\n",
        "    using 1x1 conv\n",
        "    :return: the gating feature map with the same dimension of the up layer feature map\n",
        "    \"\"\"\n",
        "    x = layers.Conv2D(out_size, (1, 1), padding='same')(input)\n",
        "    if batch_norm:\n",
        "        x = layers.BatchNormalization()(x)\n",
        "    x = layers.Activation('relu')(x)\n",
        "    return x\n",
        "\n",
        "def attention_block(x, gating, inter_shape):\n",
        "    shape_x = K.int_shape(x)\n",
        "    shape_g = K.int_shape(gating)\n",
        "\n",
        "# Getting the x signal to the same shape as the gating signal\n",
        "    theta_x = layers.Conv2D(inter_shape, (2, 2), strides=(2, 2), padding='same')(x)  # 16\n",
        "    shape_theta_x = K.int_shape(theta_x)\n",
        "\n",
        "# Getting the gating signal to the same number of filters as the inter_shape\n",
        "    phi_g = layers.Conv2D(inter_shape, (1, 1), padding='same')(gating)\n",
        "    upsample_g = layers.Conv2DTranspose(inter_shape, (3, 3),\n",
        "                                 strides=(shape_theta_x[1] // shape_g[1], shape_theta_x[2] // shape_g[2]),\n",
        "                                 padding='same')(phi_g)  # 16\n",
        "\n",
        "    concat_xg = layers.add([upsample_g, theta_x])\n",
        "    act_xg = layers.Activation('relu')(concat_xg)\n",
        "    psi = layers.Conv2D(1, (1, 1), padding='same')(act_xg)\n",
        "    sigmoid_xg = layers.Activation('sigmoid')(psi)\n",
        "    shape_sigmoid = K.int_shape(sigmoid_xg)\n",
        "    upsample_psi = layers.UpSampling2D(size=(shape_x[1] // shape_sigmoid[1], shape_x[2] // shape_sigmoid[2]))(sigmoid_xg)  # 32\n",
        "\n",
        "    upsample_psi = repeat_elem(upsample_psi, shape_x[3])\n",
        "\n",
        "    y = layers.multiply([upsample_psi, x])\n",
        "\n",
        "    result = layers.Conv2D(shape_x[3], (1, 1), padding='same')(y)\n",
        "    result_bn = layers.BatchNormalization()(result)\n",
        "    return result_bn\n",
        "\n",
        "\n",
        "\n",
        "\n",
        "FILTER_NUM = 64 # number of filters for the first layer\n",
        "FILTER_SIZE = 3 # size of the convolutional filter\n",
        "UP_SAMP_SIZE = 2 # size of upsampling filters\n",
        "\n",
        "NUM_CLASSES=1\n",
        "dropout_rate=0.0\n",
        "batch_norm=True\n",
        "input_shape = (128,128,3)\n",
        "inputs = layers.Input(input_shape, dtype=tf.float32)\n",
        "\n",
        "# Downsampling layers\n",
        "# DownRes 1, convolution + pooling\n",
        "conv_128 = conv_block(inputs, FILTER_SIZE, FILTER_NUM, dropout_rate, batch_norm)\n",
        "pool_64 = layers.MaxPooling2D(pool_size=(2,2))(conv_128)\n",
        "# DownRes 2\n",
        "conv_64 = conv_block(pool_64, FILTER_SIZE, 2*FILTER_NUM, dropout_rate, batch_norm)\n",
        "pool_32 = layers.MaxPooling2D(pool_size=(2,2))(conv_64)\n",
        "# DownRes 3\n",
        "conv_32 = conv_block(pool_32, FILTER_SIZE, 4*FILTER_NUM, dropout_rate, batch_norm)\n",
        "pool_16 = layers.MaxPooling2D(pool_size=(2,2))(conv_32)\n",
        "# DownRes 4\n",
        "conv_16 = conv_block(pool_16, FILTER_SIZE, 8*FILTER_NUM, dropout_rate, batch_norm)\n",
        "pool_8 = layers.MaxPooling2D(pool_size=(2,2))(conv_16)\n",
        "# DownRes 5, convolution only\n",
        "conv_8 = conv_block(pool_8, FILTER_SIZE, 16*FILTER_NUM, dropout_rate, batch_norm)\n",
        "\n",
        "# Upsampling layers\n",
        "\n",
        "up_16 = layers.UpSampling2D(size=(UP_SAMP_SIZE, UP_SAMP_SIZE), data_format=\"channels_last\")(conv_8)\n",
        "up_16 = layers.concatenate([up_16, conv_16], axis=3)\n",
        "up_conv_16 = conv_block(up_16, FILTER_SIZE, 8*FILTER_NUM, dropout_rate, batch_norm)\n",
        "# UpRes 7\n",
        "\n",
        "up_32 = layers.UpSampling2D(size=(UP_SAMP_SIZE, UP_SAMP_SIZE), data_format=\"channels_last\")(up_conv_16)\n",
        "up_32 = layers.concatenate([up_32, conv_32], axis=3)\n",
        "up_conv_32 = conv_block(up_32, FILTER_SIZE, 4*FILTER_NUM, dropout_rate, batch_norm)\n",
        "# UpRes 8\n",
        "\n",
        "up_64 = layers.UpSampling2D(size=(UP_SAMP_SIZE, UP_SAMP_SIZE), data_format=\"channels_last\")(up_conv_32)\n",
        "up_64 = layers.concatenate([up_64, conv_64], axis=3)\n",
        "up_conv_64 = conv_block(up_64, FILTER_SIZE, 2*FILTER_NUM, dropout_rate, batch_norm)\n",
        "# UpRes 9\n",
        "\n",
        "up_128 = layers.UpSampling2D(size=(UP_SAMP_SIZE, UP_SAMP_SIZE), data_format=\"channels_last\")(up_conv_64)\n",
        "up_128 = layers.concatenate([up_128, conv_128], axis=3)\n",
        "up_conv_128 = conv_block(up_128, FILTER_SIZE, FILTER_NUM, dropout_rate, batch_norm)\n",
        "\n",
        "# 1*1 convolutional layers\n",
        "\n",
        "conv_final = layers.Conv2D(NUM_CLASSES, kernel_size=(1,1))(up_conv_128)\n",
        "conv_final = layers.BatchNormalization(axis=3)(conv_final)\n",
        "conv_final = layers.Activation('sigmoid')(conv_final)  #Change to softmax for multichannel\n",
        "\n",
        "# Model\n",
        "model = models.Model(inputs, conv_final, name=\"UNet\")\n",
        "print(model.summary())\n"
      ],
      "metadata": {
        "id": "cRcCFJBu6UuN"
      },
      "execution_count": null,
      "outputs": []
    },
    {
      "cell_type": "code",
      "source": [
        "from tensorflow.keras.optimizers import Adam\n",
        "import tensorflow\n",
        "import segmentation_models as sm\n",
        "model.compile(loss = hybrid_loss, optimizer=Adam(lr = 1e-3), metrics=['accuracy',dice_coef,jacard, confusion,tp,tn,recall_m,precision_m])\n",
        "#print(model_Unet.summary())\n",
        "#sm.metrics.IOUScore(threshold=0.5), sm.metrics.FScore(threshold=0.5)\n"
      ],
      "metadata": {
        "id": "2ezF7rgN_3J9"
      },
      "execution_count": null,
      "outputs": []
    },
    {
      "cell_type": "code",
      "source": [
        "steps_per_epoch = len(X_train1)//16\n",
        "val_steps_per_epoch = len(X_test)//16"
      ],
      "metadata": {
        "id": "vlbUJSSjSKE4"
      },
      "execution_count": null,
      "outputs": []
    },
    {
      "cell_type": "code",
      "source": [
        "from keras.callbacks import ModelCheckpoint, EarlyStopping, CSVLogger\n",
        "\n",
        "#ModelCheckpoint callback saves a model at some interval.\n",
        "filepath=\"/content/drive/MyDrive/Skin/paper/weights/weights-improvement-{epoch:02d}-{val_accuracy:.2f}.hdf5\" #File name includes epoch and validation accuracy.\n",
        "#Use Mode = max for accuracy and min for loss.\n",
        "checkpoint = ModelCheckpoint(filepath, monitor='val_accuracy', verbose=1, save_best_only=True, mode='max')\n",
        "\n",
        "#https://www.tensorflow.org/api_docs/python/tf/keras/callbacks/EarlyStopping\n",
        "#early_stop = EarlyStopping(monitor='val_loss', patience=50, verbose=1)\n",
        "#This callback will stop the training when there is no improvement in\n",
        "# the validation loss for three consecutive epochs.\n",
        "\n",
        "#CSVLogger logs epoch, acc, loss, val_acc, val_loss\n",
        "log_csv = CSVLogger('/content/drive/MyDrive/Skin/paper/weights/UNET_SKIN_logs.csv', separator=',', append=False)\n",
        "\n",
        "callbacks_list = [checkpoint, log_csv]\n"
      ],
      "metadata": {
        "id": "woVHbbS5Hc_u"
      },
      "execution_count": null,
      "outputs": []
    },
    {
      "cell_type": "code",
      "source": [
        "from datetime import datetime\n",
        "batch_size=16\n",
        "start1 = datetime.now()\n",
        "\n",
        "Unet_history = model.fit(X_train1, Y_train1,\n",
        "                    verbose=1,epochs=500,\n",
        "                    steps_per_epoch=steps_per_epoch,\n",
        "                    validation_data=(X_test, Y_test),\n",
        "                    validation_steps=val_steps_per_epoch\n",
        "                   )\n",
        "\n",
        "stop1 = datetime.now()\n",
        "#Execution time of the model\n",
        "execution_time_Unet = stop1-start1\n",
        "print(\"MADR execution time is: \", execution_time_Unet)\n",
        "model.save('/content/drive/MyDrive/Skin/weight/consolidate/UNET_SKIN_model.h5')"
      ],
      "metadata": {
        "id": "nOPhOLNKATV3"
      },
      "execution_count": null,
      "outputs": []
    },
    {
      "cell_type": "code",
      "source": [
        "model.load_weights('/content/drive/MyDrive/Skin/weight/consolidate/UNET_SKIN_model.h5')"
      ],
      "metadata": {
        "id": "p_JRpXBBeFAR"
      },
      "execution_count": null,
      "outputs": []
    },
    {
      "cell_type": "code",
      "source": [
        "import random\n",
        "from tensorflow.keras.utils import normalize\n",
        "test_img_number =122\n",
        "test_img = X_test_do[test_img_number]\n",
        "ground_truth=Y_test_d0[test_img_number]\n",
        "\n",
        "test_img_input=np.expand_dims(test_img, 0)\n",
        "prediction = (model.predict(test_img_input)[0,:,:,0] > 0.5).astype(np.uint8)\n",
        "\n",
        "seg=prediction\n",
        "gt=ground_truth[:,:,0]\n",
        "dice = (np.sum(seg[gt==1])*2.0 / (np.sum(seg) + np.sum(gt)))*100\n",
        "dice=round(dice,4)\n",
        "plt.title(f\"Dice score of Unet is {dice}\",fontsize=12)\n",
        "plt.imshow(prediction, cmap='gray')"
      ],
      "metadata": {
        "colab": {
          "base_uri": "https://localhost:8080/",
          "height": 469
        },
        "id": "AYCEzQmweSZy",
        "outputId": "9278a737-169a-451f-84a3-2bc0b07675ee"
      },
      "execution_count": null,
      "outputs": [
        {
          "output_type": "execute_result",
          "data": {
            "text/plain": [
              "<matplotlib.image.AxesImage at 0x7febf21e57d0>"
            ]
          },
          "metadata": {},
          "execution_count": 49
        },
        {
          "output_type": "display_data",
          "data": {
            "text/plain": [
              "<Figure size 640x480 with 1 Axes>"
            ],
            "image/png": "[encoded data removed]"
          },
          "metadata": {}
        }
      ]
    }
  ],
  "metadata": {
    "accelerator": "GPU",
    "colab": {
      "machine_shape": "hm",
      "provenance": []
    },
    "kernelspec": {
      "display_name": "Python 3",
      "name": "python3"
    },
    "language_info": {
      "name": "python"
    }
  },
  "nbformat": 4,
  "nbformat_minor": 0
}